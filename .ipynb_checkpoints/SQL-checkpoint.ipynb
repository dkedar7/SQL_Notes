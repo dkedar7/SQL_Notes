{
 "cells": [
  {
   "cell_type": "markdown",
   "metadata": {},
   "source": [
    "## SQL Notes"
   ]
  },
  {
   "cell_type": "raw",
   "metadata": {},
   "source": [
    "1. Data manipulation- \n",
    "2. Data definition"
   ]
  },
  {
   "cell_type": "raw",
   "metadata": {},
   "source": [
    "1. Insert INTO table_name (col1, col2, col3) VALUES (val1, val2, val3)"
   ]
  },
  {
   "cell_type": "raw",
   "metadata": {},
   "source": [
    "UPDATE table_name SET col_name = 'New Value' WHERE other_col_name = value "
   ]
  },
  {
   "cell_type": "raw",
   "metadata": {},
   "source": [
    "# Delete rows from the table\n",
    "DELETE from table_name WHERE col_name=value\n",
    "\n",
    "# If no where specified"
   ]
  },
  {
   "cell_type": "raw",
   "metadata": {},
   "source": [
    "#\n",
    "SELECT - one or more table names\n",
    "a list columns to retrieve\n",
    "optionally one or more joins of tables\n",
    "a WHERE clause, aggregate functions and\n",
    "sorting and\n",
    "grouping commands."
   ]
  },
  {
   "cell_type": "raw",
   "metadata": {},
   "source": [
    "All columns from all the table\n",
    "SELECT * FROM table_name\n",
    "\n",
    "#Selects only odd numbered rows from the table\n",
    "SELECT * FROM table_name WHERE id in (1,3,5,7)\n",
    "\n",
    "#to limit output to 10 lines\n",
    "SELECT * FROM table_name LIMIT (num)\n",
    "\n",
    "#Returns the number of rows\n",
    "SELECT count(*) FROM table_name \n",
    "\n",
    "#Returns gender and count correpsponding to gender and grouped by gender\n",
    "SELECT gender,count(*) FROM table_name GROUP BY gender\n",
    "\n",
    "#Returns maximum of salary similar to above\n",
    "SELECT department,max(salary) FROM table_name GROUP BY department\n",
    "\n",
    "#Multiple group by using GROUPING SETS\n",
    "'''\n",
    "SELECT\n",
    "    company_division, company_region, gender, count(*)\n",
    "FROM\n",
    "    *view_name*\n",
    "GROUP BY\n",
    "    GROUPING SETS (company_division, company_region, gender)\n",
    "GROUP BY\n",
    "    company_division, company_region, gender\n",
    "'''    \n",
    "\n",
    "# Returns distinct or unique values\n",
    "SELECT DISTINCT ... \n",
    "        \n",
    "# The function SUBSTRING (text) is used to get a subset of a string.\n",
    "SELECT SUBSTRING('abcdefgh' FROM 5 FOR 3) test_string #Returns 'efg'\n",
    "\n",
    "#The function OVERLAY() is used to replace part of a string with another string\n",
    "SELECT OVERLAY(job_title PLACING 'Asst.' FROM 1 to LENGTH('Assistant')).. #Replaces the first 9 characters from job_title with 'Asst.'\n",
    "\n",
    "# Using key words like UPPER() or LOWER() is allowed\n",
    "# trim(text) is used to trim trailing and following white spaces"
   ]
  },
  {
   "cell_type": "raw",
   "metadata": {},
   "source": [
    "# various statistical functions\n",
    "min\n",
    "max\n",
    "sum\n",
    "avg - average\n",
    "var_pop\n",
    "std_pop\n",
    "\n",
    "#Other functions\n",
    "round(number,2) #to round off a number to 2 decimal places\n",
    "round(number) #Rounds to the nearest integer\n",
    "ceil(number) #Next larger integer\n",
    "trunc(number) #Ignores decimals, doesn't round up or round down\n",
    "trunc(number,3) #Ignores all decimals after the third decimal"
   ]
  },
  {
   "cell_type": "raw",
   "metadata": {},
   "source": [
    "# WHERE\n",
    "SELECT * FROM staff WHERE department LIKE 'B%' #All departments that start with 'B' and have 0 or more characters after it\n",
    "...WHERE job_title SIMILAR TO '%Assistant%(III|IV)' #job_title that has occurences of 'Assistant' and ('III' or 'IV') together\n",
    "...WHERE job_title SIMILAR TO '%Assistant I_' #Matches anything which looks like 'Assistant I('Another character')'. In this case, matches all 'Assistant II' and 'Assistant IV'.\n",
    "...WHERE job_title SIMILAR TO '[EPS]%' #All job titles atarting with E or P or S"
   ]
  },
  {
   "cell_type": "raw",
   "metadata": {},
   "source": [
    "#Conditionals\n",
    "AND\n",
    "OR"
   ]
  },
  {
   "cell_type": "raw",
   "metadata": {},
   "source": [
    "# Data munging\n",
    "\n",
    "#Join values under 2 columns with a '-' as view this aother column named\n",
    "SELECT job_title || '-' || departments as_col_name FROM staff\n"
   ]
  },
  {
   "cell_type": "code",
   "execution_count": null,
   "metadata": {},
   "outputs": [],
   "source": []
  },
  {
   "cell_type": "raw",
   "metadata": {},
   "source": [
    "## Subqueries"
   ]
  },
  {
   "cell_type": "raw",
   "metadata": {},
   "source": []
  },
  {
   "cell_type": "raw",
   "metadata": {},
   "source": [
    "1. SELECT\n",
    "\n",
    "Subqueries can be used in place of columns or tables\n",
    "# Using subqueries in place of columns\n",
    "\n",
    "SELECT\n",
    "    s1.last_name,\n",
    "    s1.salary,\n",
    "    s1.department\n",
    "    (SELECT avg(salary)) FROM staff s2 WHERE s2.department = s1.department)\n",
    "FROM\n",
    "    staff s1\n",
    "    \n",
    "# We need a WHERE clause in the subquery that references a table in the top-level so that it knows which row from the top level query is referenced\n",
    "\n",
    "###\n",
    "\n",
    "# Using subqueries in place of tables\n",
    "\n",
    "SELECT\n",
    "    s1.department,avg(salary)\n",
    "FROM\n",
    "    (SELECT\n",
    "        department,avg(s1.salary)\n",
    "    FROM\n",
    "        staff\n",
    "    WHERE\n",
    "        salary >100000) s1\n",
    "        \n",
    "GROUP BY\n",
    "    s1.department\n",
    "    "
   ]
  },
  {
   "cell_type": "raw",
   "metadata": {},
   "source": [
    "2. WHERE\n",
    "\n",
    "SELECT\n",
    "    s1.last_name,s1.salary\n",
    "FROM\n",
    "    staff s1\n",
    "    \n",
    "WHERE\n",
    "    s1.salary = \n",
    "                (SELECT\n",
    "                    max(s2.salary)\n",
    "                FROM\n",
    "                    staff s2)\n",
    "    \n"
   ]
  },
  {
   "cell_type": "raw",
   "metadata": {},
   "source": [
    "One of the ways to group data is by joining \n",
    "\n",
    "#Joining Tables\n",
    "Joins 2 or more tables to display an extended table.\n",
    "The function 'JOIN' needs the keyword argument 'ON' to decide over which rows (key rows) the tables have to be joined.\n",
    "Usually the kesy rows are the primary IDs of the tables.\n",
    "\n",
    "Two types of JOINs- inner JOIN and outer JOIN.\n",
    "Inner Join does not need an explicit mention. Whereas of the keywords LEFT or RIGHT are written before JOIN, it indicates an outer JOIN.\n",
    "\n",
    "Inner JOIN\n",
    "In case of an inner join, if any given table doesn't have a value corrsponding to one of the key rows, that row is not printed.\n",
    "\n",
    "Outer JOIN\n",
    "The table mentioned first is joined to the LEFT of the table mentioned later in case of LEFT JOIN. This means, all rows of the first table are retained, and corresponding missing values in the other table(s) are indicated bu Nulls.\n",
    "\n",
    "It is the other way around with RIGHT JOIN\n",
    "\n",
    "# Example of inner JOIN\n",
    "'''\n",
    "SELECT\n",
    "    s.last_name,s.department,cd.company_division\n",
    "FROM\n",
    "    staff s\n",
    "JOIN\n",
    "    company_divisions cd\n",
    "ON\n",
    "    cd.department = s.department\n",
    "'''\n",
    "\n",
    "# *Example of LEFT JOIN*\n",
    "'''\n",
    "SELECT\n",
    "    s.last_name,s.department,cd.company_division\n",
    "FROM\n",
    "    staff s\n",
    "LEFT JOIN\n",
    "    company_divisions cd\n",
    "ON\n",
    "    cd.department = s.department\n",
    "'''"
   ]
  },
  {
   "cell_type": "raw",
   "metadata": {},
   "source": [
    "#Creating Views\n",
    "\n",
    "A way to save a query table is by creating views. Whenever a table is displayed using a query, it can be saved as a VIEW.\n",
    "Simply, add the following line at the top of the query-\n",
    "CREATE VIEW *view_nmae* AS\n",
    "...query...\n"
   ]
  },
  {
   "cell_type": "raw",
   "metadata": {},
   "source": [
    "#ROLLUP and CUBE\n",
    "\n",
    "Using ROLLUP and CUBE in the GROUP BY clause returns the aggregated counts of groupwise and individial combinations of keywords.\n",
    "\n",
    "'''\n",
    ".\n",
    ".\n",
    "GROUP BY\n",
    "    ROLLUP(col1,col2,col3)\n",
    ".\n",
    ".\n",
    "'''\n",
    "returns\n",
    "col1,col2,col3,count\n",
    "col1,col2,count\n",
    "col1,count\n",
    "\n",
    "Whereas\n",
    "\n",
    "'''\n",
    ".\n",
    ".\n",
    "GROUP BY\n",
    "    ROLLUP(col1,col2,col3)\n",
    ".\n",
    ".\n",
    "'''\n",
    "returns\n",
    "col1,col2,col3,count\n",
    "col1,col2,count\n",
    "col1,co3,count\n",
    "col2,col3,count\n",
    "col1,count\n",
    "col2,count\n",
    "col3,count\n"
   ]
  },
  {
   "cell_type": "raw",
   "metadata": {},
   "source": [
    "#FETCH FIRST (used with the ORDER BY clause)\n",
    "Different from LIMIT.\n",
    "FETCH FIRST performs the operation, then selects which rows to display.\n",
    "Whereas, LIMIT limits the number of rows, then performs the operation.\n",
    "\n",
    "'''\n",
    "SELECT\n",
    "    company_division,salary,count(*)\n",
    "FROM\n",
    "    staff\n",
    "GROUP BY\n",
    "    company_division\n",
    "ORDER BY\n",
    "    count(*) DESC\n",
    "FETCH FIRST\n",
    "    10 ROWS ONLY"
   ]
  },
  {
   "cell_type": "raw",
   "metadata": {},
   "source": [
    "# Window Functions\n",
    "#Similar to subqueries\n",
    "\n",
    "1. OVER PARTITION\n",
    "#Used to aggregate data over a specific value of column\n",
    "Sample code:\n",
    "'''\n",
    "SELECT\n",
    "    company_region,last_name,\n",
    "    avg(salary) OVER (PARTITION BY company_region)\n",
    "FROM\n",
    "    *table_name*\n",
    "'''\n",
    "\n",
    "2. first_value\n",
    "#Returns the first value of the selected column.\n",
    "For example, if a column is ordered in descending value, then first_value will return the MAX value.\n",
    "\n",
    "'''\n",
    "SELECT\n",
    "    department,\n",
    "    last_name,\n",
    "    first_value(salary) OVER (PARTITION BY department ORDER BY salary DESC)\n",
    "FROM\n",
    "    STAFF\n",
    "'''\n",
    "\n",
    "3. RANK\n",
    "# Works with partition to partition results and assign a rank value depending on the partition\n",
    "\n",
    "'''\n",
    "SELECT\n",
    "    department,\n",
    "    last_name,\n",
    "    rank() OVER (PARTITION BY department ORDER BY salary DESC)\n",
    "FROM\n",
    "    STAFF\n",
    "'''\n",
    "\n",
    "4. lag and lead\n",
    "#To reference rows in reference to the currently processed row.\n",
    "In the following query, an additional lag column has the value of the salary from the previous row.\n",
    "'''\n",
    "SELECT\n",
    "    department,\n",
    "    last_name,\n",
    "    lag(salary) OVER (PARTITION BY department ORDER BY salary DESC)\n",
    "FROM\n",
    "    STAFF\n",
    "'''\n",
    "\n",
    "Lead is the opposite of lag.\n",
    "\n",
    "4. NTILES\n",
    "#Assigns buckets (groups) to rows. Or breaks rows into different buckets or groups. For example, assign quartiles to row (integers 1 to 4).\n",
    "The following funcion assigns group numbers (or buckets) to rows depending on the quartiles of salaries. As we move to a new department, the tiling begins again.\n",
    "'''\n",
    "SELECT\n",
    "    department,\n",
    "    last_name,\n",
    "    ntile(4) OVER (PARTITION BY department ORDER BY salary DESC)\n",
    "FROM\n",
    "    STAFF\n",
    "'''"
   ]
  },
  {
   "cell_type": "code",
   "execution_count": null,
   "metadata": {},
   "outputs": [],
   "source": []
  },
  {
   "cell_type": "code",
   "execution_count": null,
   "metadata": {},
   "outputs": [],
   "source": []
  },
  {
   "cell_type": "code",
   "execution_count": null,
   "metadata": {},
   "outputs": [],
   "source": []
  },
  {
   "cell_type": "code",
   "execution_count": null,
   "metadata": {},
   "outputs": [],
   "source": []
  },
  {
   "cell_type": "code",
   "execution_count": null,
   "metadata": {},
   "outputs": [],
   "source": [
    "## DATA definition\n",
    "Define structure to Organaize data in a RDB\n",
    "Strructure datat using tables, indexes, views and schemas (collection of many data structures)"
   ]
  },
  {
   "cell_type": "code",
   "execution_count": null,
   "metadata": {},
   "outputs": [],
   "source": [
    "TABLE\n",
    "CREATE TABLE table_name (id integer\n",
    "                        col1_name datastructure type\n",
    "                        col2_name datastructure type\n",
    "                        ...\n",
    "                         \n",
    "                         PRIMARY KEY (id) #Whenever a row is \n",
    "                        )\n",
    "\n",
    "Types of data structures ########\n",
    "Integers\n",
    "Varchars\n",
    "dates.....\n"
   ]
  },
  {
   "cell_type": "code",
   "execution_count": null,
   "metadata": {},
   "outputs": [],
   "source": [
    "# Quickly search over all entries\n",
    "INDEX\n",
    "\n",
    "CREATE INDEX idx_staff_last_name\n",
    "    ON staff\n",
    "    USING (last_name)"
   ]
  },
  {
   "cell_type": "raw",
   "metadata": {},
   "source": [
    "# Focus on the most important data in the database\n",
    "# from multiple tables\n",
    "VIEWS\n",
    "CREATE VIEW view_name AS\n",
    "SELECT\n",
    "    s.id\n",
    "    s.last_name...\n",
    "    \n",
    "FROM\n",
    "    staff s #(indicates that the table staff is used as 's'\n",
    "    \n",
    "LEFT JOIN #Join with this table to include all rows on the left side\n",
    "    company_divisions cd\n",
    "ON\n",
    "    s.department = cd.department #indicates table s is on the left and cd on the right"
   ]
  },
  {
   "cell_type": "raw",
   "metadata": {},
   "source": [
    "SCHEMAS\n",
    "\n",
    "Organize space for groups of related structures and views\n",
    "\n",
    "CREATE SCHEMAS schema_name #Additional clauses depending on the type of database used\n"
   ]
  },
  {
   "cell_type": "raw",
   "metadata": {},
   "source": [
    "SQL Standards\n",
    "\n",
    "*Usually ANSI standard SQL (1986)\n",
    "Check documentation for \n",
    "data types\n",
    "functions"
   ]
  },
  {
   "cell_type": "code",
   "execution_count": null,
   "metadata": {},
   "outputs": [],
   "source": []
  },
  {
   "cell_type": "code",
   "execution_count": null,
   "metadata": {},
   "outputs": [],
   "source": []
  },
  {
   "cell_type": "code",
   "execution_count": null,
   "metadata": {},
   "outputs": [],
   "source": []
  },
  {
   "cell_type": "code",
   "execution_count": null,
   "metadata": {},
   "outputs": [],
   "source": []
  },
  {
   "cell_type": "code",
   "execution_count": null,
   "metadata": {},
   "outputs": [],
   "source": []
  },
  {
   "cell_type": "code",
   "execution_count": null,
   "metadata": {},
   "outputs": [],
   "source": []
  },
  {
   "cell_type": "code",
   "execution_count": null,
   "metadata": {},
   "outputs": [],
   "source": []
  },
  {
   "cell_type": "code",
   "execution_count": null,
   "metadata": {},
   "outputs": [],
   "source": []
  },
  {
   "cell_type": "code",
   "execution_count": null,
   "metadata": {},
   "outputs": [],
   "source": []
  },
  {
   "cell_type": "code",
   "execution_count": null,
   "metadata": {},
   "outputs": [],
   "source": []
  },
  {
   "cell_type": "code",
   "execution_count": null,
   "metadata": {},
   "outputs": [],
   "source": []
  },
  {
   "cell_type": "code",
   "execution_count": null,
   "metadata": {},
   "outputs": [],
   "source": []
  },
  {
   "cell_type": "code",
   "execution_count": 5,
   "metadata": {},
   "outputs": [],
   "source": [
    "import sqlite3\n",
    "conn = sqlite3.connect('example.db')\n",
    "c = conn.cursor()\n"
   ]
  },
  {
   "cell_type": "code",
   "execution_count": 6,
   "metadata": {},
   "outputs": [
    {
     "data": {
      "text/plain": [
       "<sqlite3.Cursor at 0x1d2e2568f10>"
      ]
     },
     "execution_count": 6,
     "metadata": {},
     "output_type": "execute_result"
    }
   ],
   "source": [
    "c.execute('''CREATE TABLE stocks\n",
    "             (date text, trans text, symbol text, qty real, price real)''')"
   ]
  },
  {
   "cell_type": "code",
   "execution_count": 7,
   "metadata": {},
   "outputs": [],
   "source": [
    "\n",
    "\n"
   ]
  },
  {
   "cell_type": "code",
   "execution_count": null,
   "metadata": {},
   "outputs": [],
   "source": [
    "conn.commit()\n",
    "conn.close()"
   ]
  }
 ],
 "metadata": {
  "kernelspec": {
   "display_name": "Python 3",
   "language": "python",
   "name": "python3"
  },
  "language_info": {
   "codemirror_mode": {
    "name": "ipython",
    "version": 3
   },
   "file_extension": ".py",
   "mimetype": "text/x-python",
   "name": "python",
   "nbconvert_exporter": "python",
   "pygments_lexer": "ipython3",
   "version": "3.6.3"
  }
 },
 "nbformat": 4,
 "nbformat_minor": 2
}
